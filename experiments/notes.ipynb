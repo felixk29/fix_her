{
 "cells": [
  {
   "cell_type": "markdown",
   "metadata": {},
   "source": [
    "## NEVER FORGET\n",
    "  1. test all functions you made\n",
    "  1. sign of anything wrong, dont ignore it,  \n",
    "  1. write thesis report \n",
    "  1. read papers\n",
    "\n",
    "## Todos:\n",
    "  1. maybe rnd exploration\n",
    "  1. think about actual architecture\n",
    "  1. write thesis\n",
    "\n",
    "## Agent atm:\n",
    "  - go towards state goal until value function stops increasing\n",
    "  - 2 networks, 1 standard, 1 uvf goal oriented; basically training-only auxiliary task (maybe could also be seen as weird form of actor-critic?)\n",
    "  -  1 or 2 buffer for each\n",
    "\n",
    "## Pseudopseudocode\n",
    "### Rollout\n",
    " 1. episode starts \n",
    " 1. if random() < chance: continue; else goto 5. \n",
    " 1. sample buffer for states, choose highest RND value state x, \n",
    " 1. utilize uvf to go to state x, until value function doesn't increase further\n",
    " 1. use main agent to try to go to goal\n",
    "### Training\n",
    " 1. for main agent use standard dual dqn\n",
    " 1. for uvf utilize HER\n",
    "\n",
    "\n",
    "\n",
    "## Questions to ask: \n",
    " - can the idea of 2 networks be called a weird version of actor critic? (for reading/implementation purposes) \n",
    " - should uvf and main have the same buffer? (is it even feasible), 2 buffer would be easier, merging to one makes more sense when merging networks to one,\n",
    " - should I even keep the chance thingy or for starters just do 100% chance runs? \n",
    " - name: let her go? "
   ]
  }
 ],
 "metadata": {
  "language_info": {
   "name": "python"
  }
 },
 "nbformat": 4,
 "nbformat_minor": 2
}
