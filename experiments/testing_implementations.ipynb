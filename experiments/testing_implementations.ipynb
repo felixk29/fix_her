{
 "cells": [
  {
   "cell_type": "code",
   "execution_count": 3,
   "metadata": {},
   "outputs": [
    {
     "name": "stdout",
     "output_type": "stream",
     "text": [
      "----To mimic: ----\n",
      "----Observation----\n",
      "Player: 5,5, dir: 1\n",
      "Goal: 2,1\n",
      "Doors: up:0, down:1, left:1, right:1\n",
      "----Observation----\n",
      "Player: 5,6, dir: 1\n",
      "Goal: 2,1\n",
      "Doors: up:0, down:1, left:1, right:1\n",
      "----Reconstruction: ---\n",
      "----Observation----\n",
      "Player: 5,5, dir: 1\n",
      "Goal: 3,7\n",
      "Doors: up:2, down:1, left:0, right:1\n",
      "----Observation----\n",
      "Player: 5,6, dir: 1\n",
      "Goal: 3,7\n",
      "Doors: up:2, down:1, left:0, right:1\n"
     ]
    },
    {
     "name": "stderr",
     "output_type": "stream",
     "text": [
      "/home/felix/.local/lib/python3.10/site-packages/gymnasium/envs/registration.py:694: UserWarning: \u001b[33mWARN: Overriding environment MiniGrid-FourRooms-v1 already in registry.\u001b[0m\n",
      "  logger.warn(f\"Overriding environment {new_spec.id} already in registry.\")\n"
     ]
    }
   ],
   "source": [
    "### Testing reset\n",
    "\n",
    "from four_room.env import FourRoomsEnv\n",
    "from four_room.wrappers import gym_wrapper\n",
    "from four_room.utils import obs_to_state, obs_to_img\n",
    "import gymnasium as gym\n",
    "import dill\n",
    "\n",
    "gym.register('MiniGrid-FourRooms-v1', FourRoomsEnv)\n",
    "\n",
    "with open('./four_room/configs/fourrooms_train_config.pl', 'rb') as file:\n",
    "    train_config = dill.load(file)\n",
    "        #(player location x, player location y, player direction, goal location x, goal location y, \n",
    "         #   door position up, door position down, door position left, door position right)\n",
    "\n",
    "\n",
    "def describe(state):\n",
    "    state=obs_to_state(state)\n",
    "    print(\"----Observation----\")\n",
    "    print(f\"Player: {state[0]},{state[1]}, dir: {state[2]}\")\n",
    "    print(f\"Goal: {state[3]},{state[4]}\")\n",
    "    print(f\"Doors: up:{state[5]}, down:{state[6]}, left:{state[7]}, right:{state[8]}\")\n",
    "\n",
    "\n",
    "\n",
    "def make_env_fn(config, seed: int= 0, rank: int = 0):\n",
    "    def _init():\n",
    "        env = gym_wrapper(gym.make('MiniGrid-FourRooms-v1', \n",
    "                    agent_pos=config['agent positions'], \n",
    "                    goal_pos=config['goal positions'], \n",
    "                    doors_pos=config['topologies'], \n",
    "                    agent_dir=config['agent directions']))\n",
    "        env.reset(seed=seed+rank)\n",
    "        return env\n",
    "\n",
    "    return _init\n",
    "\n",
    "env = make_env_fn(train_config,seed=123958)()\n",
    "target_env = make_env_fn(train_config,seed=412318)()\n",
    "\n",
    "target, _ = target_env.reset()\n",
    "obs,_ = env.reset(options={'load_state':target})\n",
    "target2, _, _ , _ , _  = target_env.step(2)\n",
    "obs2,  _ ,_ ,_ ,_  = env.step(2)\n",
    "\n",
    "print(\"----To mimic: ----\")\n",
    "describe(target)\n",
    "describe(target2)\n",
    "\n",
    "print(\"----Reconstruction: ---\")\n",
    "\n",
    "describe(obs)\n",
    "describe(obs2)\n",
    "\n"
   ]
  }
 ],
 "metadata": {
  "kernelspec": {
   "display_name": "Python 3",
   "language": "python",
   "name": "python3"
  },
  "language_info": {
   "codemirror_mode": {
    "name": "ipython",
    "version": 3
   },
   "file_extension": ".py",
   "mimetype": "text/x-python",
   "name": "python",
   "nbconvert_exporter": "python",
   "pygments_lexer": "ipython3",
   "version": "3.10.12"
  }
 },
 "nbformat": 4,
 "nbformat_minor": 2
}
