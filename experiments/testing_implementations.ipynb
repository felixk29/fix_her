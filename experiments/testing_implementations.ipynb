{
 "cells": [
  {
   "cell_type": "code",
   "execution_count": 3,
   "metadata": {},
   "outputs": [
    {
     "name": "stdout",
     "output_type": "stream",
     "text": [
      "----To mimic: ----\n",
      "----Observation----\n",
      "Player: 5,5, dir: 1\n",
      "Goal: 2,1\n",
      "Doors: up:0, down:1, left:1, right:1\n",
      "----Observation----\n",
      "Player: 5,6, dir: 1\n",
      "Goal: 2,1\n",
      "Doors: up:0, down:1, left:1, right:1\n",
      "----Reconstruction: ---\n",
      "----Observation----\n",
      "Player: 5,5, dir: 1\n",
      "Goal: 3,7\n",
      "Doors: up:2, down:1, left:0, right:1\n",
      "----Observation----\n",
      "Player: 5,6, dir: 1\n",
      "Goal: 3,7\n",
      "Doors: up:2, down:1, left:0, right:1\n"
     ]
    },
    {
     "name": "stderr",
     "output_type": "stream",
     "text": [
      "/home/felix/.local/lib/python3.10/site-packages/gymnasium/envs/registration.py:694: UserWarning: \u001b[33mWARN: Overriding environment MiniGrid-FourRooms-v1 already in registry.\u001b[0m\n",
      "  logger.warn(f\"Overriding environment {new_spec.id} already in registry.\")\n"
     ]
    }
   ],
   "source": [
    "### Testing reset\n",
    "\n",
    "from four_room.env import FourRoomsEnv\n",
    "from four_room.wrappers import gym_wrapper\n",
    "from four_room.utils import obs_to_state, obs_to_img\n",
    "import gymnasium as gym\n",
    "import dill\n",
    "\n",
    "gym.register('MiniGrid-FourRooms-v1', FourRoomsEnv)\n",
    "\n",
    "with open('./four_room/configs/fourrooms_train_config.pl', 'rb') as file:\n",
    "    train_config = dill.load(file)\n",
    "        #(player location x, player location y, player direction, goal location x, goal location y, \n",
    "         #   door position up, door position down, door position left, door position right)\n",
    "\n",
    "\n",
    "def describe(state):\n",
    "    state=obs_to_state(state)\n",
    "    print(\"----Observation----\")\n",
    "    print(f\"Player: {state[0]},{state[1]}, dir: {state[2]}\")\n",
    "    print(f\"Goal: {state[3]},{state[4]}\")\n",
    "    print(f\"Doors: up:{state[5]}, down:{state[6]}, left:{state[7]}, right:{state[8]}\")\n",
    "\n",
    "\n",
    "\n",
    "def make_env_fn(config, seed: int= 0, rank: int = 0):\n",
    "    def _init():\n",
    "        env = gym_wrapper(gym.make('MiniGrid-FourRooms-v1', \n",
    "                    agent_pos=config['agent positions'], \n",
    "                    goal_pos=config['goal positions'], \n",
    "                    doors_pos=config['topologies'], \n",
    "                    agent_dir=config['agent directions']))\n",
    "        env.reset(seed=seed+rank)\n",
    "        return env\n",
    "\n",
    "    return _init\n",
    "\n",
    "env = make_env_fn(train_config,seed=123958)()\n",
    "target_env = make_env_fn(train_config,seed=412318)()\n",
    "\n",
    "target, _ = target_env.reset()\n",
    "obs,_ = env.reset(options={'load_state':target})\n",
    "target2, _, _ , _ , _  = target_env.step(2)\n",
    "obs2,  _ ,_ ,_ ,_  = env.step(2)\n",
    "\n",
    "print(\"----To mimic: ----\")\n",
    "describe(target)\n",
    "describe(target2)\n",
    "\n",
    "print(\"----Reconstruction: ---\")\n",
    "\n",
    "describe(obs)\n",
    "describe(obs2)\n",
    "\n"
   ]
  },
  {
   "cell_type": "code",
   "execution_count": 7,
   "metadata": {},
   "outputs": [
    {
     "ename": "TypeError",
     "evalue": "list() argument after ** must be a mapping, not zip",
     "output_type": "error",
     "traceback": [
      "\u001b[0;31m---------------------------------------------------------------------------\u001b[0m",
      "\u001b[0;31mTypeError\u001b[0m                                 Traceback (most recent call last)",
      "Cell \u001b[0;32mIn[7], line 17\u001b[0m\n\u001b[1;32m     15\u001b[0m \u001b[38;5;28;01mfor\u001b[39;00m _ \u001b[38;5;129;01min\u001b[39;00m \u001b[38;5;28mrange\u001b[39m(\u001b[38;5;241m10\u001b[39m):\n\u001b[1;32m     16\u001b[0m     l\u001b[38;5;241m.\u001b[39mappend((rep_buf, buf_a, rew, done, info, spaceDict))\n\u001b[0;32m---> 17\u001b[0m \u001b[38;5;28mprint\u001b[39m(\u001b[38;5;28mlist\u001b[39m(\u001b[38;5;241m*\u001b[39m\u001b[38;5;241m*\u001b[39m\u001b[38;5;28mzip\u001b[39m(\u001b[38;5;28msum\u001b[39m)))\n",
      "\u001b[0;31mTypeError\u001b[0m: list() argument after ** must be a mapping, not zip"
     ]
    }
   ],
   "source": [
    "import torch as th \n",
    "import numpy as np \n",
    "\n",
    "\n",
    "rep_buf=object()\n",
    "buf_a=th.tensor([2])\n",
    "rew=th.tensor([0])\n",
    "done=True\n",
    "info={'success':True}\n",
    "spaceDict={'agent_pos':th.tensor([1,1]), 'agent_dir':th.tensor([0]), 'goal_pos':th.tensor([7,7]), 'doors_pos':th.tensor([1,1,1,1])}\n",
    "\n",
    "#i want to make a np array of tuples of the form (rep , action, reward, done, info, spaceDict)\n",
    "\n",
    "l=[]\n",
    "for _ in range(10):\n",
    "    l.append((rep_buf, buf_a, rew, done, info, spaceDict))\n",
    "print(list(map(list,zip(*l))))\n"
   ]
  }
 ],
 "metadata": {
  "kernelspec": {
   "display_name": "Python 3",
   "language": "python",
   "name": "python3"
  },
  "language_info": {
   "codemirror_mode": {
    "name": "ipython",
    "version": 3
   },
   "file_extension": ".py",
   "mimetype": "text/x-python",
   "name": "python",
   "nbconvert_exporter": "python",
   "pygments_lexer": "ipython3",
   "version": "3.10.12"
  }
 },
 "nbformat": 4,
 "nbformat_minor": 2
}
